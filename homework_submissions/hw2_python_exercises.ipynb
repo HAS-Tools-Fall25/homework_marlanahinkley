{
 "cells": [
  {
   "attachments": {},
   "cell_type": "markdown",
   "metadata": {},
   "source": [
    "# Exercises for Module 1: Intro to Python\n",
    "\n",
    "This set of exercises works through some basic python functionality. Just a note that we have used some functions from a module called numpy to create the exercises, but nothing you write should need it although you can use it if you'd like. We'll be learning more about numpy in the next module."
   ]
  },
  {
   "cell_type": "code",
   "execution_count": 2,
   "metadata": {},
   "outputs": [],
   "source": [
    "import numpy as np"
   ]
  },
  {
   "attachments": {},
   "cell_type": "markdown",
   "metadata": {},
   "source": [
    "#### 1.) Write code to translate a boolean value to a string. Specifically, if the `testval` is `True` then print \"Yes\" and if it is `False` then print \"No\"\n"
   ]
  },
  {
   "cell_type": "code",
   "execution_count": 3,
   "metadata": {},
   "outputs": [
    {
     "name": "stdout",
     "output_type": "stream",
     "text": [
      "True\n",
      "Yes\n"
     ]
    }
   ],
   "source": [
    "testval = bool(np.random.choice([0, 1]))\n",
    "# TODO: Your code here\n",
    "print(testval)\n",
    "if testval == True:\n",
    "    print('Yes')\n",
    "else:\n",
    "    print('No')    \n",
    "\n",
    "#Alternative\n",
    "#if testval:\n",
    "    #print('yes')\n",
    "#else:\n",
    "    #print('no')    "
   ]
  },
  {
   "attachments": {},
   "cell_type": "markdown",
   "metadata": {},
   "source": [
    "\n",
    "#### 2.) You will be given a random integer, and your goal is to return the same value, but as a negative number. Notice, the number you are given may already be negative"
   ]
  },
  {
   "cell_type": "code",
   "execution_count": 7,
   "metadata": {},
   "outputs": [
    {
     "name": "stdout",
     "output_type": "stream",
     "text": [
      "65 -65\n"
     ]
    }
   ],
   "source": [
    "testval = np.random.randint(-100, 100+1)\n",
    "# TODO: Your code here\n",
    "#if testval < 0:\n",
    "    #print(testval)\n",
    "#else:\n",
    "    #negval = testval*-1\n",
    "    #print(negval)    \n",
    "#print(testval, negval)\n",
    "\n",
    "negval = -abs(testval)\n",
    "print(testval, negval)\n"
   ]
  },
  {
   "attachments": {},
   "cell_type": "markdown",
   "metadata": {},
   "source": [
    "#### 3.) Given a list of random integers, return them sorted from low to high. \n",
    "NOTE: I do not want you to write your own sorting algorithm, but want you to look up how to do this using the python standard library"
   ]
  },
  {
   "cell_type": "code",
   "execution_count": 8,
   "metadata": {},
   "outputs": [
    {
     "name": "stdout",
     "output_type": "stream",
     "text": [
      "[ 71 -58 -33 -76 -62 -80  16  69  84  92]\n",
      "[-80 -76 -62 -58 -33  16  69  71  84  92]\n"
     ]
    }
   ],
   "source": [
    "random_vals = np.random.randint(-100, 100, 10)\n",
    "# TODO: Your code here\n",
    "print(random_vals)\n",
    "\n",
    "sorted_vals = np.sort(random_vals)\n",
    "print(sorted_vals)\n"
   ]
  },
  {
   "attachments": {},
   "cell_type": "markdown",
   "metadata": {},
   "source": [
    "\n",
    "#### 4.) Given a list of US locations with the format: \"CityName, StateAbbrev\" filter out any that are not in Arizona (AZ).\n"
   ]
  },
  {
   "cell_type": "code",
   "execution_count": null,
   "metadata": {},
   "outputs": [
    {
     "name": "stdout",
     "output_type": "stream",
     "text": [
      "['Kingman, AZ', 'Bisbee, AZ']\n"
     ]
    }
   ],
   "source": [
    "city_list = [\n",
    "    \"New York, NY\",\n",
    "    \"Chattanooga, TN\",\n",
    "    \"Hobart, MN\",\n",
    "    \"Kingman, AZ\",\n",
    "    \"Yachats, OR\",\n",
    "    \"Bisbee, AZ\",\n",
    "    \"Muskogee, OK\"\n",
    "]\n",
    "#TODO: Your code here\n",
    "az_list = []\n",
    "for x in city_list:\n",
    "   if x.endswith('AZ'):\n",
    "       az_list.append(x)\n",
    "print(az_list)\n",
    "\n",
    "#Alternative\n",
    "# def ends_az(x):\n",
    "   # return x.endswith('AZ')\n",
    "#list(filter(lambda x.endswith('AZ'), city_list))_\n",
    "#..."
   ]
  },
  {
   "attachments": {},
   "cell_type": "markdown",
   "metadata": {},
   "source": [
    "\n",
    "#### 5.) The following code doesn't work - can you fix it?"
   ]
  },
  {
   "cell_type": "code",
   "execution_count": 11,
   "metadata": {},
   "outputs": [
    {
     "name": "stdout",
     "output_type": "stream",
     "text": [
      "50\n"
     ]
    }
   ],
   "source": [
    "def multiply(a, b):\n",
    "    # TODO: Your code in here\n",
    "    return a * b\n",
    "\n",
    "print(multiply(5, 10))"
   ]
  },
  {
   "attachments": {},
   "cell_type": "markdown",
   "metadata": {},
   "source": [
    "#### 6.) Time for a coding interview classic, FizzBuzz\n",
    "The rules of the game:\n",
    " - print numbers from 1 to 100\n",
    " - if the number is divisible by 3 print \"Fizz\"\n",
    " - if the number is divisible by 5 print \"Buzz\"\n",
    " - if the number is divisible by both 3 and 5 print \"FizzBuzz\"\n",
    " - otherwise, print the number\n",
    "\n"
   ]
  },
  {
   "cell_type": "code",
   "execution_count": 15,
   "metadata": {},
   "outputs": [
    {
     "name": "stdout",
     "output_type": "stream",
     "text": [
      "[  1   2   3   4   5   6   7   8   9  10  11  12  13  14  15  16  17  18\n",
      "  19  20  21  22  23  24  25  26  27  28  29  30  31  32  33  34  35  36\n",
      "  37  38  39  40  41  42  43  44  45  46  47  48  49  50  51  52  53  54\n",
      "  55  56  57  58  59  60  61  62  63  64  65  66  67  68  69  70  71  72\n",
      "  73  74  75  76  77  78  79  80  81  82  83  84  85  86  87  88  89  90\n",
      "  91  92  93  94  95  96  97  98  99 100]\n",
      "1\n",
      "2\n",
      "Fizz\n",
      "4\n",
      "Buzz\n",
      "Fizz\n",
      "7\n",
      "8\n",
      "Fizz\n",
      "Buzz\n",
      "11\n",
      "Fizz\n",
      "13\n",
      "14\n",
      "FizzBuzz\n",
      "16\n",
      "17\n",
      "Fizz\n",
      "19\n",
      "Buzz\n",
      "Fizz\n",
      "22\n",
      "23\n",
      "Fizz\n",
      "Buzz\n",
      "26\n",
      "Fizz\n",
      "28\n",
      "29\n",
      "FizzBuzz\n",
      "31\n",
      "32\n",
      "Fizz\n",
      "34\n",
      "Buzz\n",
      "Fizz\n",
      "37\n",
      "38\n",
      "Fizz\n",
      "Buzz\n",
      "41\n",
      "Fizz\n",
      "43\n",
      "44\n",
      "FizzBuzz\n",
      "46\n",
      "47\n",
      "Fizz\n",
      "49\n",
      "Buzz\n",
      "Fizz\n",
      "52\n",
      "53\n",
      "Fizz\n",
      "Buzz\n",
      "56\n",
      "Fizz\n",
      "58\n",
      "59\n",
      "FizzBuzz\n",
      "61\n",
      "62\n",
      "Fizz\n",
      "64\n",
      "Buzz\n",
      "Fizz\n",
      "67\n",
      "68\n",
      "Fizz\n",
      "Buzz\n",
      "71\n",
      "Fizz\n",
      "73\n",
      "74\n",
      "FizzBuzz\n",
      "76\n",
      "77\n",
      "Fizz\n",
      "79\n",
      "Buzz\n",
      "Fizz\n",
      "82\n",
      "83\n",
      "Fizz\n",
      "Buzz\n",
      "86\n",
      "Fizz\n",
      "88\n",
      "89\n",
      "FizzBuzz\n",
      "91\n",
      "92\n",
      "Fizz\n",
      "94\n",
      "Buzz\n",
      "Fizz\n",
      "97\n",
      "98\n",
      "Fizz\n",
      "Buzz\n"
     ]
    }
   ],
   "source": [
    "testvals = np.arange(1, 101)\n",
    "print(testvals)\n",
    "#TODO: Your code here\n",
    "# ...\n",
    "for v in testvals:\n",
    "    if v % 3 == 0 and v % 5 == 0:\n",
    "        print('FizzBuzz')\n",
    "    elif v % 3 == 0:\n",
    "        print('Fizz')\n",
    "    elif v % 5 == 0:\n",
    "        print('Buzz')\n",
    "    else:\n",
    "        print(v)\n",
    "    \n",
    "\n",
    "\n"
   ]
  },
  {
   "attachments": {},
   "cell_type": "markdown",
   "metadata": {},
   "source": [
    "#### 7.) Write a function that takes a list of numbers and returns the mean (average) of the list"
   ]
  },
  {
   "cell_type": "code",
   "execution_count": 22,
   "metadata": {},
   "outputs": [
    {
     "name": "stdout",
     "output_type": "stream",
     "text": [
      "5.5\n"
     ]
    }
   ],
   "source": [
    "testvals = [1,2,3,4,5,6,7,8,9,10]\n",
    "\n",
    "def average(vals):\n",
    "    #TODO: your code here\n",
    "    return sum(vals)/len(vals)\n",
    "\n",
    "\n",
    "print(average(testvals))\n"
   ]
  },
  {
   "cell_type": "code",
   "execution_count": null,
   "metadata": {},
   "outputs": [],
   "source": []
  }
 ],
 "metadata": {
  "kernelspec": {
   "display_name": "has-tools",
   "language": "python",
   "name": "python3"
  },
  "language_info": {
   "codemirror_mode": {
    "name": "ipython",
    "version": 3
   },
   "file_extension": ".py",
   "mimetype": "text/x-python",
   "name": "python",
   "nbconvert_exporter": "python",
   "pygments_lexer": "ipython3",
   "version": "3.11.13"
  },
  "orig_nbformat": 4
 },
 "nbformat": 4,
 "nbformat_minor": 2
}
